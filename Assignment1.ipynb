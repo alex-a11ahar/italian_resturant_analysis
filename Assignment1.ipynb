{
 "cells": [
  {
   "cell_type": "markdown",
   "metadata": {},
   "source": [
    "# Recommending Locations for an Italian Restaurant in Fort Worth"
   ]
  },
  {
   "cell_type": "code",
   "execution_count": 40,
   "metadata": {},
   "outputs": [],
   "source": [
    "# package imports\n",
    "import requests\n",
    "import pandas as pd\n",
    "import numpy as np\n",
    "import matplotlib.pyplot as plt\n",
    "import seaborn as sns\n",
    "\n",
    "from bs4 import BeautifulSoup"
   ]
  },
  {
   "cell_type": "markdown",
   "metadata": {},
   "source": [
    "## Data Collection"
   ]
  },
  {
   "cell_type": "markdown",
   "metadata": {},
   "source": [
    "### Demographics"
   ]
  },
  {
   "cell_type": "code",
   "execution_count": 41,
   "metadata": {},
   "outputs": [
    {
     "name": "stdout",
     "output_type": "stream",
     "text": [
      "                              Metric  Fort Worth  National Average\n",
      "0            Median Household Income    77082.00          77719.00\n",
      "1                         Median Age       33.70             39.20\n",
      "2  Population Density (per sq. mile)     2854.86             94.83\n",
      "\n",
      "Fort Worth is 0.99 times than the US medium household income.\n",
      "Fort Worth is 5.50 younger than the US median age.\n",
      "Fort Worth is 30.11 times denser than the US average.\n"
     ]
    }
   ],
   "source": [
    "# API Endpoints for Fort Worth and National Data\n",
    "fort_worth_url = \"https://api.censusreporter.org/1.0/data/show/latest?geo_ids=16000US4827000&table_ids=B01003,B19013,B01002\"\n",
    "us_url = \"https://api.censusreporter.org/1.0/data/show/latest?geo_ids=01000US&table_ids=B01003,B19013,B01002\"\n",
    "\n",
    "# Fetch data\n",
    "fort_worth_data = requests.get(fort_worth_url).json()\n",
    "us_data = requests.get(us_url).json()\n",
    "\n",
    "# Extract key statistics\n",
    "fort_worth_geo = fort_worth_data[\"data\"][\"16000US4827000\"]\n",
    "us_geo = us_data[\"data\"][\"01000US\"]\n",
    "\n",
    "# Land area values (Census QuickFacts)\n",
    "fort_worth_land_area = 342.2  # Fort Worth land area (sq. miles)\n",
    "us_land_area = 3531905  # US total land area (sq. miles)\n",
    "\n",
    "# Calculate population density\n",
    "fort_worth_population = fort_worth_geo[\"B01003\"][\"estimate\"][\"B01003001\"]\n",
    "us_population = us_geo[\"B01003\"][\"estimate\"][\"B01003001\"]\n",
    "\n",
    "fort_worth_density = fort_worth_population / fort_worth_land_area\n",
    "us_density = us_population / us_land_area\n",
    "\n",
    "# Convert to DataFrame\n",
    "df = pd.DataFrame({\n",
    "    \"Metric\": [\"Median Household Income\", \"Median Age\", \"Population Density (per sq. mile)\"],\n",
    "    \"Fort Worth\": [\n",
    "        fort_worth_geo[\"B19013\"][\"estimate\"][\"B19013001\"],  # Fort Worth Median Income\n",
    "        fort_worth_geo[\"B01002\"][\"estimate\"][\"B01002001\"],  # Fort Worth Median Age\n",
    "        round(fort_worth_density, 2)  # Fort Worth Population Density\n",
    "    ],\n",
    "    \"National Average\": [\n",
    "        us_geo[\"B19013\"][\"estimate\"][\"B19013001\"],  # US Median Income\n",
    "        us_geo[\"B01002\"][\"estimate\"][\"B01002001\"],  # US Median Age\n",
    "        round(us_density, 2)  # US Population Density\n",
    "    ]\n",
    "})\n",
    "\n",
    "# Display comparison table\n",
    "print(df)\n",
    "\n",
    "# Explain the comparison\n",
    "print(\"\\n{0} is {1:.2f} times than the US medium household income.\".format(\"Fort Worth\", fort_worth_geo[\"B19013\"][\"estimate\"][\"B19013001\"] / us_geo[\"B19013\"][\"estimate\"][\"B19013001\"]))\n",
    "print(\"{0} is {1:.2f} younger than the US median age.\".format(\"Fort Worth\", abs(fort_worth_geo[\"B01002\"][\"estimate\"][\"B01002001\"] - us_geo[\"B01002\"][\"estimate\"][\"B01002001\"])))\n",
    "print(\"{0} is {1:.2f} times denser than the US average.\".format(\"Fort Worth\", fort_worth_density / us_density))\n"
   ]
  },
  {
   "cell_type": "markdown",
   "metadata": {},
   "source": [
    "From the Census demographic data, we can determine the fort worth is a urban city with a younger population. The household income in this city is similar to the national average. This will be the target demographic when exploring possible locations for a resturant. "
   ]
  },
  {
   "cell_type": "markdown",
   "metadata": {},
   "source": [
    "### Resturant & Economic Data"
   ]
  },
  {
   "cell_type": "markdown",
   "metadata": {},
   "source": [
    "### Competitive Landscape"
   ]
  },
  {
   "cell_type": "markdown",
   "metadata": {},
   "source": [
    "### Market Demands"
   ]
  },
  {
   "cell_type": "markdown",
   "metadata": {},
   "source": [
    "### Crime & Safety Metrics"
   ]
  },
  {
   "cell_type": "code",
   "execution_count": 42,
   "metadata": {},
   "outputs": [
    {
     "name": "stdout",
     "output_type": "stream",
     "text": [
      "Safest Fort Worth Area Neighborhoods\n",
      "\n",
      "Fort Worth Crime\n",
      "\n",
      "\n",
      "Data\n",
      "\n",
      "\n",
      "\n",
      "\n",
      "\n",
      "\n",
      "\n",
      "\n",
      "\n",
      "Violent Crime\n",
      "\n",
      "\n",
      "Property Crime\n",
      "\n",
      "\n",
      "Fort Worth Crimes Per Square Mile\n",
      "\n",
      "\n",
      "Analytics built by:\n",
      " \n",
      "Location, Inc.\n",
      "\n",
      "\n",
      "Raw data sources:\n",
      " \n",
      "18,000 local law enforcement agencies in the U.S.\n",
      "\n",
      "\n",
      "Date(s) & Update Frequency:\n",
      " \n",
      "\"Reflects 2023 calendar year; released from FBI in October 2024 (latest available). Updated annually.\"\n",
      "Where is 2024 data?\n",
      "\n",
      "\n",
      "Methodology:\n",
      " \n",
      "Our nationwide meta-analysis overcomes the issues inherent in any crime database, including non-reporting and reporting errors. This is possible by associating the 9.4 million reported crimes in the U.S, including over 2 million geocoded point locations….\n",
      "Read more about Scout's Crime Data\n",
      "\n",
      "With a crime rate of 31 per one thousand residents, Fort Worth has one of the highest crime rates in America compared to all communities of all sizes - from the smallest towns to the very largest cities. One's chance of becoming a victim of either violent or property crime here is one in 32. Within Texas, more than 93% of the communities have a lower crime rate than Fort Worth.\n",
      "However, compared to other communities of similar population size, Fort Worth has a crime rate that is noticeably lower than the average. This means that for comparably sized cities all across America, Fort Worth is actually safer than most according to NeighborhoodScout's exclusive analysis of FBI crime data.\n",
      "Now let us turn to take a look at how Fort Worth does for violent crimes specifically, and then how it does for property crimes. This is important because the overall crime rate can be further illuminated by understanding if violent crime or property crimes (or both) are the major contributors to the general rate of crime in Fort Worth.\n",
      "From our analysis, we discovered that violent crime in Fort Worth occurs at a rate higher than in most communities of all population sizes in America. The chance that a person will become a victim of a violent crime in Fort Worth; such as armed robbery, aggravated assault, rape or murder; is 1 in 205. This equates to a rate of 5 per one thousand inhabitants.\n",
      "\n",
      "In addition, NeighborhoodScout found that a lot of the crime that takes place in Fort Worth is property crime. Property crimes that are tracked for this analysis are burglary, larceny over fifty dollars, motor vehicle theft, and arson. In Fort Worth, your chance of becoming a victim of a property crime is one in 38, which is a rate of 26 per one thousand population.\n",
      "Importantly, we found that Fort Worth has one of the highest rates of motor vehicle theft in the nation according to our analysis of FBI crime data. This is compared to communities of all sizes, from the smallest to the largest. In fact, your chance of getting your car stolen if you live in Fort Worth is one in 204.\n",
      "NeighborhoodScout® provides exclusive crime risk analytics for every neighborhood in America with up to 98% predictive accuracy. Crime risk indices are nationally comparable on a 1 – 100 scale, where 100 means safer than 100% of U.S. neighborhoods.\n",
      "Crime risk data are updated annually. Raw crime incidents are sourced from all 18,000+ local law enforcement agencies – municipal, county, transit, park, port, university, tribal and more, assigned to localities, then built into NeighborhoodScout’s proprietary predictive models to provide a comprehensive crime risk profile for every neighborhood and address-vicinity in the U.S.\n",
      "\n",
      "Crime Data FAQs\n",
      "\n",
      "\n",
      "More about NeighborhoodScout’s crime data methodology\n",
      "\n",
      "\n",
      "\n",
      "(100 is safest)\n",
      "\n",
      "\n",
      "\n",
      "Safer than\n",
      "\n",
      "9%\n",
      "\n",
      "of U.S. cities.\n",
      "\n",
      "Number of Crimes\n",
      "\n",
      "4,778\n",
      "\n",
      "\n",
      "25,864\n",
      "\n",
      "\n",
      "30,642\n",
      "\n",
      "\n",
      "Crime Rate\n",
      "\n",
      "(per 1,000 residents)\n",
      "\n",
      "\n",
      "4.88\n",
      "\n",
      "\n",
      "26.43\n",
      "\n",
      "\n",
      "31.32\n",
      "\n"
     ]
    }
   ],
   "source": [
    "# Define the URL to scrape\n",
    "url = \"https://www.neighborhoodscout.com/tx/fort-worth/crime\"\n",
    "\n",
    "# Send a GET request to fetch the raw HTML content\n",
    "response = requests.get(url)\n",
    "\n",
    "# Check if the request was successful\n",
    "if response.status_code == 200:\n",
    "    # Parse the HTML content using BeautifulSoup\n",
    "    soup = BeautifulSoup(response.text, \"html.parser\")\n",
    "    \n",
    "    # Example of extracting specific data:\n",
    "    # You will need to inspect the page structure and find the relevant data (e.g., crime rates, crime types, etc.)\n",
    "    \n",
    "    # For demonstration, let's try to find all headers or data points related to crime risk\n",
    "    headers = soup.find_all(\"h2\")\n",
    "    paragraphs = soup.find_all(\"p\")\n",
    "    \n",
    "    # Print the headers and paragraphs for review\n",
    "    for header in headers:\n",
    "        print(header.get_text())\n",
    "    \n",
    "    for paragraph in paragraphs:\n",
    "        print(paragraph.get_text())\n",
    "else:\n",
    "    print(f\"Failed to retrieve the page. Status code: {response.status_code}\")\n"
   ]
  }
 ],
 "metadata": {
  "kernelspec": {
   "display_name": "Python (italian_restaurant_env)",
   "language": "python",
   "name": "italian_restaurant_env"
  },
  "language_info": {
   "codemirror_mode": {
    "name": "ipython",
    "version": 3
   },
   "file_extension": ".py",
   "mimetype": "text/x-python",
   "name": "python",
   "nbconvert_exporter": "python",
   "pygments_lexer": "ipython3",
   "version": "3.12.7"
  }
 },
 "nbformat": 4,
 "nbformat_minor": 2
}
