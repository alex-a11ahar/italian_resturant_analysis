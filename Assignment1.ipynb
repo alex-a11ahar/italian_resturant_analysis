{
 "cells": [
  {
   "cell_type": "markdown",
   "metadata": {},
   "source": [
    "# Recommending Locations for an Italian Restaurant in Fort Worth"
   ]
  },
  {
   "cell_type": "code",
   "execution_count": null,
   "metadata": {},
   "outputs": [],
   "source": [
    "# package imports\n",
    "import requests\n",
    "import kaggle\n",
    "import os\n",
    "import pandas as pd\n",
    "import numpy as np\n",
    "import matplotlib.pyplot as plt\n",
    "import seaborn as sns\n",
    "\n",
    "from bs4 import BeautifulSoup"
   ]
  },
  {
   "cell_type": "markdown",
   "metadata": {},
   "source": [
    "## Data Collection"
   ]
  },
  {
   "cell_type": "markdown",
   "metadata": {},
   "source": [
    "### Demographics"
   ]
  },
  {
   "cell_type": "code",
   "execution_count": 41,
   "metadata": {},
   "outputs": [
    {
     "name": "stdout",
     "output_type": "stream",
     "text": [
      "                              Metric  Fort Worth  National Average\n",
      "0            Median Household Income    77082.00          77719.00\n",
      "1                         Median Age       33.70             39.20\n",
      "2  Population Density (per sq. mile)     2854.86             94.83\n",
      "\n",
      "Fort Worth is 0.99 times than the US medium household income.\n",
      "Fort Worth is 5.50 younger than the US median age.\n",
      "Fort Worth is 30.11 times denser than the US average.\n"
     ]
    }
   ],
   "source": [
    "# API Endpoints for Fort Worth and National Data\n",
    "fort_worth_url = \"https://api.censusreporter.org/1.0/data/show/latest?geo_ids=16000US4827000&table_ids=B01003,B19013,B01002\"\n",
    "us_url = \"https://api.censusreporter.org/1.0/data/show/latest?geo_ids=01000US&table_ids=B01003,B19013,B01002\"\n",
    "\n",
    "# Fetch data\n",
    "fort_worth_data = requests.get(fort_worth_url).json()\n",
    "us_data = requests.get(us_url).json()\n",
    "\n",
    "# Extract key statistics\n",
    "fort_worth_geo = fort_worth_data[\"data\"][\"16000US4827000\"]\n",
    "us_geo = us_data[\"data\"][\"01000US\"]\n",
    "\n",
    "# Land area values (Census QuickFacts)\n",
    "fort_worth_land_area = 342.2  # Fort Worth land area (sq. miles)\n",
    "us_land_area = 3531905  # US total land area (sq. miles)\n",
    "\n",
    "# Calculate population density\n",
    "fort_worth_population = fort_worth_geo[\"B01003\"][\"estimate\"][\"B01003001\"]\n",
    "us_population = us_geo[\"B01003\"][\"estimate\"][\"B01003001\"]\n",
    "\n",
    "fort_worth_density = fort_worth_population / fort_worth_land_area\n",
    "us_density = us_population / us_land_area\n",
    "\n",
    "# Convert to DataFrame\n",
    "df = pd.DataFrame({\n",
    "    \"Metric\": [\"Median Household Income\", \"Median Age\", \"Population Density (per sq. mile)\"],\n",
    "    \"Fort Worth\": [\n",
    "        fort_worth_geo[\"B19013\"][\"estimate\"][\"B19013001\"],  # Fort Worth Median Income\n",
    "        fort_worth_geo[\"B01002\"][\"estimate\"][\"B01002001\"],  # Fort Worth Median Age\n",
    "        round(fort_worth_density, 2)  # Fort Worth Population Density\n",
    "    ],\n",
    "    \"National Average\": [\n",
    "        us_geo[\"B19013\"][\"estimate\"][\"B19013001\"],  # US Median Income\n",
    "        us_geo[\"B01002\"][\"estimate\"][\"B01002001\"],  # US Median Age\n",
    "        round(us_density, 2)  # US Population Density\n",
    "    ]\n",
    "})\n",
    "\n",
    "# Display comparison table\n",
    "print(df)\n",
    "\n",
    "# Explain the comparison\n",
    "print(\"\\n{0} is {1:.2f} times than the US medium household income.\".format(\"Fort Worth\", fort_worth_geo[\"B19013\"][\"estimate\"][\"B19013001\"] / us_geo[\"B19013\"][\"estimate\"][\"B19013001\"]))\n",
    "print(\"{0} is {1:.2f} younger than the US median age.\".format(\"Fort Worth\", abs(fort_worth_geo[\"B01002\"][\"estimate\"][\"B01002001\"] - us_geo[\"B01002\"][\"estimate\"][\"B01002001\"])))\n",
    "print(\"{0} is {1:.2f} times denser than the US average.\".format(\"Fort Worth\", fort_worth_density / us_density))\n"
   ]
  },
  {
   "cell_type": "markdown",
   "metadata": {},
   "source": [
    "From the Census demographic data, we can determine the fort worth is a urban city with a younger population. The household income in this city is similar to the national average. This will be the target demographic when exploring possible locations for a resturant. "
   ]
  },
  {
   "cell_type": "markdown",
   "metadata": {},
   "source": [
    "### Competitive Landscape"
   ]
  },
  {
   "cell_type": "code",
   "execution_count": null,
   "metadata": {},
   "outputs": [],
   "source": [
    "from kaggle.api.kaggle_api_extended import KaggleApi\n",
    "\n",
    "# Set up Kaggle API key (ensure kaggle.json is in the correct directory)\n",
    "os.environ['KAGGLE_CONFIG_DIR'] = \"/path_to_kaggle_json_folder\"  # Adjust the path to where your kaggle.json is located\n",
    "\n",
    "# Initialize the Kaggle API\n",
    "api = KaggleApi()\n",
    "api.authenticate()\n",
    "\n",
    "# Download the dataset (replace 'shrutimehta/zomato-restaurants-data' with the dataset ID)\n",
    "api.dataset_download_files('shrutimehta/zomato-restaurants-data', path='./', unzip=True)\n"
   ]
  },
  {
   "cell_type": "markdown",
   "metadata": {},
   "source": [
    "### Accessibility & Foot Traffic\n"
   ]
  },
  {
   "cell_type": "markdown",
   "metadata": {},
   "source": [
    "### Crime & Safety Metrics"
   ]
  },
  {
   "cell_type": "code",
   "execution_count": 44,
   "metadata": {},
   "outputs": [
    {
     "name": "stdout",
     "output_type": "stream",
     "text": [
      "Safest Fort Worth Area Neighborhoods:\n",
      "\n",
      "Fort Worth Crime Data:\n"
     ]
    }
   ],
   "source": [
    "import requests\n",
    "from bs4 import BeautifulSoup\n",
    "\n",
    "# Define the URL to scrape\n",
    "url = \"https://www.neighborhoodscout.com/tx/fort-worth/crime\"\n",
    "\n",
    "# Send a GET request to fetch the raw HTML content\n",
    "response = requests.get(url)\n",
    "\n",
    "# Check if the request was successful\n",
    "if response.status_code == 200:\n",
    "    # Parse the HTML content using BeautifulSoup\n",
    "    soup = BeautifulSoup(response.text, \"html.parser\")\n",
    "    \n",
    "    # Scrape the \"Safest Fort Worth Area Neighborhoods\" section\n",
    "    safest_neighborhoods_section = soup.find(\"section\", {\"id\": \"Safest Fort Worth neighborhoods\"})\n",
    "    safest_neighborhoods = safest_neighborhoods_section.find_all(\"li\") if safest_neighborhoods_section else []\n",
    "    \n",
    "    safest_neighborhoods_list = [neighborhood.get_text() for neighborhood in safest_neighborhoods]\n",
    "    \n",
    "    # Scrape the \"Fort Worth Crime Data\" section\n",
    "    crime_data_section = soup.find(\"section\", {\"id\": \"Fort Worth Crime\"})\n",
    "    crime_data_headers = crime_data_section.find_all(\"h2\") if crime_data_section else []\n",
    "    crime_data_paragraphs = crime_data_section.find_all(\"p\") if crime_data_section else []\n",
    "    \n",
    "    crime_data_headers_list = [header.get_text() for header in crime_data_headers]\n",
    "    crime_data_paragraphs_list = [paragraph.get_text() for paragraph in crime_data_paragraphs]\n",
    "    \n",
    "    # Print the scraped data for review\n",
    "    print(\"Safest Fort Worth Area Neighborhoods:\")\n",
    "    for neighborhood in safest_neighborhoods_list:\n",
    "        print(neighborhood)\n",
    "    \n",
    "    print(\"\\nFort Worth Crime Data:\")\n",
    "    for header in crime_data_headers_list:\n",
    "        print(header)\n",
    "    \n",
    "    for paragraph in crime_data_paragraphs_list:\n",
    "        print(paragraph)\n",
    "else:\n",
    "    print(f\"Failed to retrieve the page. Status code: {response.status_code}\")\n"
   ]
  },
  {
   "cell_type": "code",
   "execution_count": 45,
   "metadata": {},
   "outputs": [
    {
     "data": {
      "text/html": [
       "<div>\n",
       "<style scoped>\n",
       "    .dataframe tbody tr th:only-of-type {\n",
       "        vertical-align: middle;\n",
       "    }\n",
       "\n",
       "    .dataframe tbody tr th {\n",
       "        vertical-align: top;\n",
       "    }\n",
       "\n",
       "    .dataframe thead th {\n",
       "        text-align: right;\n",
       "    }\n",
       "</style>\n",
       "<table border=\"1\" class=\"dataframe\">\n",
       "  <thead>\n",
       "    <tr style=\"text-align: right;\">\n",
       "      <th></th>\n",
       "      <th>Crime Data</th>\n",
       "    </tr>\n",
       "  </thead>\n",
       "  <tbody>\n",
       "    <tr>\n",
       "      <th>0</th>\n",
       "      <td>\\nAnalytics built by:\\n \\nLocation, Inc.\\n</td>\n",
       "    </tr>\n",
       "    <tr>\n",
       "      <th>1</th>\n",
       "      <td>\\nRaw data sources:\\n \\n18,000 local law enfor...</td>\n",
       "    </tr>\n",
       "    <tr>\n",
       "      <th>2</th>\n",
       "      <td>\\nDate(s) &amp; Update Frequency:\\n \\n\"Reflects 20...</td>\n",
       "    </tr>\n",
       "    <tr>\n",
       "      <th>3</th>\n",
       "      <td>\\nMethodology:\\n \\nOur nationwide meta-analysi...</td>\n",
       "    </tr>\n",
       "    <tr>\n",
       "      <th>4</th>\n",
       "      <td>With a crime rate of 31 per one thousand resid...</td>\n",
       "    </tr>\n",
       "  </tbody>\n",
       "</table>\n",
       "</div>"
      ],
      "text/plain": [
       "                                          Crime Data\n",
       "0         \\nAnalytics built by:\\n \\nLocation, Inc.\\n\n",
       "1  \\nRaw data sources:\\n \\n18,000 local law enfor...\n",
       "2  \\nDate(s) & Update Frequency:\\n \\n\"Reflects 20...\n",
       "3  \\nMethodology:\\n \\nOur nationwide meta-analysi...\n",
       "4  With a crime rate of 31 per one thousand resid..."
      ]
     },
     "execution_count": 45,
     "metadata": {},
     "output_type": "execute_result"
    }
   ],
   "source": [
    "# Example: Assuming the crime data is structured in a specific way\n",
    "crime_data = []\n",
    "\n",
    "# Example of extracting data from specific tags (adjust according to the structure)\n",
    "for para in paragraphs:\n",
    "    crime_data.append(para.get_text())\n",
    "\n",
    "# Convert the data into a pandas DataFrame for better readability\n",
    "df = pd.DataFrame(crime_data, columns=[\"Crime Data\"])\n",
    "df.head()  # Display the first few rows\n"
   ]
  }
 ],
 "metadata": {
  "kernelspec": {
   "display_name": "Python (italian_restaurant_env)",
   "language": "python",
   "name": "italian_restaurant_env"
  },
  "language_info": {
   "codemirror_mode": {
    "name": "ipython",
    "version": 3
   },
   "file_extension": ".py",
   "mimetype": "text/x-python",
   "name": "python",
   "nbconvert_exporter": "python",
   "pygments_lexer": "ipython3",
   "version": "3.12.7"
  }
 },
 "nbformat": 4,
 "nbformat_minor": 2
}
