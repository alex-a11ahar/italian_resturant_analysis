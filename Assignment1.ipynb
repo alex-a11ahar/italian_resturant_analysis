{
 "cells": [
  {
   "cell_type": "markdown",
   "metadata": {},
   "source": [
    "# Recommending Locations for an Italian Restaurant in Fort Worth"
   ]
  },
  {
   "cell_type": "code",
   "execution_count": 20,
   "metadata": {},
   "outputs": [],
   "source": [
    "# package imports\n",
    "import requests\n",
    "import pandas as pd\n",
    "import numpy as np\n",
    "import matplotlib.pyplot as plt\n",
    "import seaborn as sns"
   ]
  },
  {
   "cell_type": "markdown",
   "metadata": {},
   "source": [
    "## Data Collection"
   ]
  },
  {
   "cell_type": "markdown",
   "metadata": {},
   "source": [
    "### Demographics"
   ]
  },
  {
   "cell_type": "code",
   "execution_count": 21,
   "metadata": {},
   "outputs": [
    {
     "name": "stdout",
     "output_type": "stream",
     "text": [
      "                              Metric  Fort Worth  National Average\n",
      "0                   Total Population   976932.00      3.349149e+08\n",
      "1            Median Household Income    77082.00      7.771900e+04\n",
      "2                         Median Age       33.70      3.920000e+01\n",
      "3  Population Density (per sq. mile)     2854.86      9.483000e+01\n"
     ]
    }
   ],
   "source": [
    "# API Endpoints for Fort Worth and National Data\n",
    "fort_worth_url = \"https://api.censusreporter.org/1.0/data/show/latest?geo_ids=16000US4827000&table_ids=B01003,B19013,B01002\"\n",
    "us_url = \"https://api.censusreporter.org/1.0/data/show/latest?geo_ids=01000US&table_ids=B01003,B19013,B01002\"\n",
    "\n",
    "# Fetch data\n",
    "fort_worth_data = requests.get(fort_worth_url).json()\n",
    "us_data = requests.get(us_url).json()\n",
    "\n",
    "# Extract key statistics\n",
    "fort_worth_geo = fort_worth_data[\"data\"][\"16000US4827000\"]\n",
    "us_geo = us_data[\"data\"][\"01000US\"]\n",
    "\n",
    "# Land area values (Census QuickFacts)\n",
    "fort_worth_land_area = 342.2  # Fort Worth land area (sq. miles)\n",
    "us_land_area = 3531905  # US total land area (sq. miles)\n",
    "\n",
    "# Calculate population density\n",
    "fort_worth_population = fort_worth_geo[\"B01003\"][\"estimate\"][\"B01003001\"]\n",
    "us_population = us_geo[\"B01003\"][\"estimate\"][\"B01003001\"]\n",
    "\n",
    "fort_worth_density = fort_worth_population / fort_worth_land_area\n",
    "us_density = us_population / us_land_area\n",
    "\n",
    "# Convert to DataFrame\n",
    "df = pd.DataFrame({\n",
    "    \"Metric\": [\"Total Population\", \"Median Household Income\", \"Median Age\", \"Population Density (per sq. mile)\"],\n",
    "    \"Fort Worth\": [\n",
    "        fort_worth_population,  # Fort Worth Population\n",
    "        fort_worth_geo[\"B19013\"][\"estimate\"][\"B19013001\"],  # Fort Worth Median Income\n",
    "        fort_worth_geo[\"B01002\"][\"estimate\"][\"B01002001\"],  # Fort Worth Median Age\n",
    "        round(fort_worth_density, 2)  # Fort Worth Population Density\n",
    "    ],\n",
    "    \"National Average\": [\n",
    "        us_population,  # US Population\n",
    "        us_geo[\"B19013\"][\"estimate\"][\"B19013001\"],  # US Median Income\n",
    "        us_geo[\"B01002\"][\"estimate\"][\"B01002001\"],  # US Median Age\n",
    "        round(us_density, 2)  # US Population Density\n",
    "    ]\n",
    "})\n",
    "\n",
    "# Display comparison table\n",
    "print(df)\n"
   ]
  }
 ],
 "metadata": {
  "kernelspec": {
   "display_name": "Python (italian_restaurant_env)",
   "language": "python",
   "name": "italian_restaurant_env"
  },
  "language_info": {
   "codemirror_mode": {
    "name": "ipython",
    "version": 3
   },
   "file_extension": ".py",
   "mimetype": "text/x-python",
   "name": "python",
   "nbconvert_exporter": "python",
   "pygments_lexer": "ipython3",
   "version": "3.12.7"
  }
 },
 "nbformat": 4,
 "nbformat_minor": 2
}
