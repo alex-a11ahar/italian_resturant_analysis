{
 "cells": [],
 "metadata": {
  "kernelspec": {
   "display_name": "Python (italian_restaurant_env)",
   "language": "python",
   "name": "italian_restaurant_env"
  },
  "language_info": {
   "name": "python",
   "version": "3.12.7"
  }
 },
 "nbformat": 4,
 "nbformat_minor": 2
}
